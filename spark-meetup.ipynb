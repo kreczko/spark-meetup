{
 "cells": [
  {
   "cell_type": "code",
   "execution_count": 1,
   "metadata": {
    "collapsed": true
   },
   "outputs": [],
   "source": [
    "from __future__ import division\n",
    "# import random\n",
    "# #num_samples = 100000000\n",
    "# num_samples = 10000\n",
    "# def inside(p):     \n",
    "#   x, y = random.random(), random.random()\n",
    "#   return x*x + y*y < 1\n",
    "# count = sc.parallelize(range(0, num_samples)).filter(inside).count()\n",
    "# pi = 4 * count / num_samples\n",
    "# print(pi)\n",
    "from pyspark.sql import SparkSession\n",
    "from pyspark.sql.functions import explode\n",
    "from pyspark.sql.functions import split\n",
    "from pyspark.sql import Row"
   ]
  },
  {
   "cell_type": "code",
   "execution_count": 2,
   "metadata": {
    "collapsed": true
   },
   "outputs": [],
   "source": [
    "def wordCount(sparkSession, input_folder):\n",
    "\n",
    "#     lines = sparkSession.readStream.option('inferSchema', True).csv(input_folder)\n",
    "    lines = sparkSession.readStream.text(input_folder)\n",
    "#     parts = lines.map(lambda l: l.split(\",\"))\n",
    "#     DATE,TIME,PICK UP ADDRESS\n",
    "#     uber = parts.map(lambda p: Row(date=p[0], time=int(p[1]), pick_up_address=p[2]))\n",
    "#     words = lines.asString.flatMap()\n",
    "#     Split the lines into words\n",
    "\n",
    "    words = lines.select(explode(split(lines.value, \" \")).alias(\"word\"))\n",
    "    sql = 'SELECT value, COUNT(*) as count FROM words GROUP BY value'\n",
    "    wordCounts = words.groupBy(\"word\").count()\n",
    "    query = wordCounts \\\n",
    "    .writeStream \\\n",
    "    .outputMode(\"complete\") \\\n",
    "    .format(\"console\") \\\n",
    "    .option('truncate', False) \\\n",
    "    .option('numRows', 100) \\\n",
    "    .start()\n",
    "\n",
    "    query.awaitTermination()"
   ]
  },
  {
   "cell_type": "code",
   "execution_count": null,
   "metadata": {},
   "outputs": [],
   "source": [
    "spark = SparkSession \\\n",
    "    .builder \\\n",
    "    .appName(\"StructuredNetworkWordCount\") \\\n",
    "    .getOrCreate()\n",
    "\n",
    "wordCount(spark, 'file:///Users/phxlk/Workspace/spark-meetup/data')\n",
    "spark.stop()"
   ]
  },
  {
   "cell_type": "code",
   "execution_count": null,
   "metadata": {
    "collapsed": true
   },
   "outputs": [],
   "source": []
  }
 ],
 "metadata": {
  "kernelspec": {
   "display_name": "Python 2",
   "language": "python",
   "name": "python2"
  },
  "language_info": {
   "codemirror_mode": {
    "name": "ipython",
    "version": 2
   },
   "file_extension": ".py",
   "mimetype": "text/x-python",
   "name": "python",
   "nbconvert_exporter": "python",
   "pygments_lexer": "ipython2",
   "version": "2.7.14"
  }
 },
 "nbformat": 4,
 "nbformat_minor": 2
}
